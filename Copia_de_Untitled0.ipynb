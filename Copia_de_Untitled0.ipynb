{
  "nbformat": 4,
  "nbformat_minor": 0,
  "metadata": {
    "colab": {
      "provenance": [],
      "authorship_tag": "ABX9TyNVR3mtExq1dGHZPkECJCv1",
      "include_colab_link": true
    },
    "kernelspec": {
      "name": "python3",
      "display_name": "Python 3"
    },
    "language_info": {
      "name": "python"
    }
  },
  "cells": [
    {
      "cell_type": "markdown",
      "metadata": {
        "id": "view-in-github",
        "colab_type": "text"
      },
      "source": [
        "<a href=\"https://colab.research.google.com/github/carlos24520/Numero-Secreto/blob/main/Copia_de_Untitled0.ipynb\" target=\"_parent\"><img src=\"https://colab.research.google.com/assets/colab-badge.svg\" alt=\"Open In Colab\"/></a>"
      ]
    },
    {
      "cell_type": "code",
      "execution_count": null,
      "metadata": {
        "colab": {
          "base_uri": "https://localhost:8080/"
        },
        "id": "-fNVMVocFx9M",
        "outputId": "d773bc66-260c-4b1b-9ab0-f9a313bf3910"
      },
      "outputs": [
        {
          "output_type": "stream",
          "name": "stdout",
          "text": [
            "La colonia A igualará o superará a la colonia B en 63 días.\n",
            "Colonia A: 25.75, Colonia B: 25.55\n"
          ]
        }
      ],
      "source": [
        "# Valores iniciales\n",
        "colonia_A = 4\n",
        "colonia_B = 10\n",
        "\n",
        "# Tasas de crecimiento\n",
        "tasa_A = 0.03  # 3%\n",
        "tasa_B = 0.015  # 1.5%\n",
        "\n",
        "# Contador de días\n",
        "dias = 0\n",
        "\n",
        "# Ciclo hasta que colonia A iguale o supere a colonia B\n",
        "while colonia_A < colonia_B:\n",
        "    colonia_A *= (1 + tasa_A)\n",
        "    colonia_B *= (1 + tasa_B)\n",
        "    dias += 1\n",
        "\n",
        "# Resultado\n",
        "print(f\"La colonia A igualará o superará a la colonia B en {dias} días.\")\n",
        "print(f\"Colonia A: {colonia_A:.2f}, Colonia B: {colonia_B:.2f}\")\n"
      ]
    },
    {
      "cell_type": "code",
      "source": [
        "# Lista para almacenar las calificaciones válidas\n",
        "calificaciones = []\n",
        "\n",
        "# Repetimos hasta tener 15 calificaciones válidas\n",
        "while len(calificaciones) < 15:\n",
        "    try:\n",
        "        # Pedimos al usuario que ingrese una calificación\n",
        "        calificacion = float(input(f\"Ingrese la calificación #{len(calificaciones)+1} (de 0 a 5): \"))\n",
        "\n",
        "        # Verificamos si está en el rango válido\n",
        "        if 0 <= calificacion <= 5:\n",
        "            calificaciones.append(calificacion)\n",
        "        else:\n",
        "            print(\"Calificación inválida. Debe estar entre 0 y 5.\")\n",
        "    except ValueError:\n",
        "        print(\"Entrada no válida. Por favor, ingrese un número.\")\n",
        "\n",
        "# Mostramos las calificaciones válidas ingresadas\n",
        "print(\"\\nCalificaciones válidas ingresadas:\")\n",
        "print(calificaciones)\n"
      ],
      "metadata": {
        "colab": {
          "base_uri": "https://localhost:8080/"
        },
        "id": "X7YJaDiAGSDs",
        "outputId": "489e551c-8c63-4d5b-d315-4766983a5bce"
      },
      "execution_count": null,
      "outputs": [
        {
          "output_type": "stream",
          "name": "stdout",
          "text": [
            "Ingrese la calificación #1 (de 0 a 5): 4\n",
            "Ingrese la calificación #2 (de 0 a 5): 6\n",
            "Calificación inválida. Debe estar entre 0 y 5.\n",
            "Ingrese la calificación #2 (de 0 a 5): 4\n",
            "Ingrese la calificación #3 (de 0 a 5): 2\n",
            "Ingrese la calificación #4 (de 0 a 5): 9\n",
            "Calificación inválida. Debe estar entre 0 y 5.\n",
            "Ingrese la calificación #4 (de 0 a 5): 4\n",
            "Ingrese la calificación #5 (de 0 a 5): 3\n",
            "Ingrese la calificación #6 (de 0 a 5): 1\n",
            "Ingrese la calificación #7 (de 0 a 5): 2\n",
            "Ingrese la calificación #8 (de 0 a 5): 3\n",
            "Ingrese la calificación #9 (de 0 a 5): 2\n",
            "Ingrese la calificación #10 (de 0 a 5): 4\n",
            "Ingrese la calificación #11 (de 0 a 5): 2\n",
            "Ingrese la calificación #12 (de 0 a 5): 3\n",
            "Ingrese la calificación #13 (de 0 a 5): 4\n",
            "Ingrese la calificación #14 (de 0 a 5): 2\n",
            "Ingrese la calificación #15 (de 0 a 5): 3\n",
            "\n",
            "Calificaciones válidas ingresadas:\n",
            "[4.0, 4.0, 2.0, 4.0, 3.0, 1.0, 2.0, 3.0, 2.0, 4.0, 2.0, 3.0, 4.0, 2.0, 3.0]\n"
          ]
        }
      ]
    },
    {
      "cell_type": "code",
      "source": [
        "def calcular_promedio_temperaturas():\n",
        "    temperaturas = []\n",
        "\n",
        "    print(\"Introduce las temperaturas en grados Celsius una por una.\")\n",
        "    print(\"Para terminar, ingresa -273 (cero absoluto).\")\n",
        "\n",
        "    while True:\n",
        "        try:\n",
        "            temp = float(input(\"Temperatura: \"))\n",
        "            if temp == -273:\n",
        "                break\n",
        "            temperaturas.append(temp)\n",
        "        except ValueError:\n",
        "            print(\"Por favor, introduce un número válido.\")\n",
        "\n",
        "    if temperaturas:\n",
        "        promedio = sum(temperaturas) / len(temperaturas)\n",
        "        print(f\"\\nEl promedio de las temperaturas ingresadas es: {promedio:.2f}°C\")\n",
        "    else:\n",
        "        print(\"\\nNo se ingresaron temperaturas válidas para calcular el promedio.\")\n",
        "\n",
        "# Ejecutar el programa\n",
        "calcular_promedio_temperaturas()\n"
      ],
      "metadata": {
        "colab": {
          "base_uri": "https://localhost:8080/"
        },
        "id": "q5wu6hMtHTvY",
        "outputId": "489d77fb-8d76-414c-ae32-5cf25912e791"
      },
      "execution_count": null,
      "outputs": [
        {
          "output_type": "stream",
          "name": "stdout",
          "text": [
            "Introduce las temperaturas en grados Celsius una por una.\n",
            "Para terminar, ingresa -273 (cero absoluto).\n",
            "Temperatura: 30\n",
            "Temperatura: 26\n",
            "Temperatura: 40\n",
            "Temperatura: 23\n",
            "Temperatura: -273\n",
            "\n",
            "El promedio de las temperaturas ingresadas es: 29.75°C\n"
          ]
        }
      ]
    },
    {
      "cell_type": "code",
      "source": [
        "# Solicita al usuario que ingrese un número\n",
        "numero = int(input(\"Introduce un número del 1 al 10 para ver su tabla de multiplicar: \"))\n",
        "\n",
        "# Verifica que el número esté en el rango permitido\n",
        "if 1 <= numero <= 10:\n",
        "    print(f\"\\nTabla de multiplicar del {numero}:\")\n",
        "    for i in range(1, 11):\n",
        "        resultado = numero * i\n",
        "        print(f\"{numero} x {i} = {resultado}\")\n",
        "else:\n",
        "    print(\"Por favor, introduce un número válido entre 1 y 10.\")\n"
      ],
      "metadata": {
        "colab": {
          "base_uri": "https://localhost:8080/"
        },
        "id": "2HiUbDekIIOM",
        "outputId": "5fa345ed-e4af-457c-e9c9-c83689c2d892"
      },
      "execution_count": null,
      "outputs": [
        {
          "output_type": "stream",
          "name": "stdout",
          "text": [
            "Introduce un número del 1 al 10 para ver su tabla de multiplicar: 2\n",
            "\n",
            "Tabla de multiplicar del 2:\n",
            "2 x 1 = 2\n",
            "2 x 2 = 4\n",
            "2 x 3 = 6\n",
            "2 x 4 = 8\n",
            "2 x 5 = 10\n",
            "2 x 6 = 12\n",
            "2 x 7 = 14\n",
            "2 x 8 = 16\n",
            "2 x 9 = 18\n",
            "2 x 10 = 20\n"
          ]
        }
      ]
    },
    {
      "cell_type": "code",
      "source": [
        "def es_primo(numero):\n",
        "    if numero < 2:\n",
        "        return False\n",
        "    for i in range(2, int(numero ** 0.5) + 1):\n",
        "        if numero % i == 0:\n",
        "            return False\n",
        "    return True\n",
        "\n",
        "# Solicitar al usuario un número entero\n",
        "try:\n",
        "    numero = int(input(\"Introduce un número entero: \"))\n",
        "    if es_primo(numero):\n",
        "        print(f\"{numero} es un número primo.\")\n",
        "    else:\n",
        "        print(f\"{numero} no es un número primo.\")\n",
        "except ValueError:\n",
        "    print(\"Por favor, introduce un número entero válido.\")\n"
      ],
      "metadata": {
        "colab": {
          "base_uri": "https://localhost:8080/"
        },
        "id": "zr8gEcSJIxT2",
        "outputId": "955dec38-00b9-4842-babe-cb9df3b794f9"
      },
      "execution_count": null,
      "outputs": [
        {
          "output_type": "stream",
          "name": "stdout",
          "text": [
            "Introduce un número entero: 2\n",
            "2 es un número primo.\n"
          ]
        }
      ]
    },
    {
      "cell_type": "code",
      "source": [
        "# Inicializamos contadores para cada intervalo\n",
        "rango_0_25 = 0\n",
        "rango_26_50 = 0\n",
        "rango_51_75 = 0\n",
        "rango_76_100 = 0\n",
        "\n",
        "print(\"Introduce las edades de los pensionistas (ingresa un número negativo para terminar):\")\n",
        "\n",
        "while True:\n",
        "    try:\n",
        "        edad = int(input(\"Edad: \"))\n",
        "        if edad < 0:\n",
        "            break\n",
        "        elif 0 <= edad <= 25:\n",
        "            rango_0_25 += 1\n",
        "        elif 26 <= edad <= 50:\n",
        "            rango_26_50 += 1\n",
        "        elif 51 <= edad <= 75:\n",
        "            rango_51_75 += 1\n",
        "        elif 76 <= edad <= 100:\n",
        "            rango_76_100 += 1\n",
        "        else:\n",
        "            print(\"Edad fuera del rango considerado (0-100). No se contará.\")\n",
        "    except ValueError:\n",
        "        print(\"Por favor, introduce un número válido.\")\n",
        "\n",
        "# Mostramos los resultados\n",
        "print(\"\\nDistribución de edades:\")\n",
        "print(f\"[0-25]:    {rango_0_25}\")\n",
        "print(f\"[26-50]:   {rango_26_50}\")\n",
        "print(f\"[51-75]:   {rango_51_75}\")\n",
        "print(f\"[76-100]:  {rango_76_100}\")\n"
      ],
      "metadata": {
        "colab": {
          "base_uri": "https://localhost:8080/"
        },
        "id": "giv8NDRxJCZR",
        "outputId": "e3b0c30e-aa58-4b20-d90b-4f16d53b764c"
      },
      "execution_count": null,
      "outputs": [
        {
          "output_type": "stream",
          "name": "stdout",
          "text": [
            "Introduce las edades de los pensionistas (ingresa un número negativo para terminar):\n",
            "Edad: 63\n",
            "Edad: 22\n",
            "Edad: 65\n",
            "Edad: 80\n",
            "Edad: 45\n",
            "Edad: 45\n",
            "Edad: 33\n",
            "Edad: 12\n",
            "Edad: 46\n",
            "Edad: 10\n",
            "Edad: 46\n",
            "Edad: -23\n",
            "\n",
            "Distribución de edades:\n",
            "[0-25]:    3\n",
            "[26-50]:   5\n",
            "[51-75]:   2\n",
            "[76-100]:  1\n"
          ]
        }
      ]
    },
    {
      "cell_type": "code",
      "source": [
        "# Inicializamos los contadores de votos\n",
        "votos_candidato = [0, 0, 0, 0]  # Índices 0 a 3 representan candidatos 1 a 4\n",
        "votos_nulos = 0\n",
        "votos_blancos = 0\n",
        "\n",
        "total_votantes = 20\n",
        "\n",
        "print(\"Votación para la gerencia (elige del 1 al 6):\")\n",
        "print(\"1-4: Candidatos\\n5: Voto Nulo\\n6: Voto en Blanco\\n\")\n",
        "\n",
        "# Se simula el proceso de votación de los 20 empleados\n",
        "for i in range(total_votantes):\n",
        "    while True:\n",
        "        try:\n",
        "            voto = int(input(f\"Ingrese el voto del empleado #{i+1}: \"))\n",
        "            if voto in [1, 2, 3, 4]:\n",
        "                votos_candidato[voto - 1] += 1\n",
        "                break\n",
        "            elif voto == 5:\n",
        "                votos_nulos += 1\n",
        "                break\n",
        "            elif voto == 6:\n",
        "                votos_blancos += 1\n",
        "                break\n",
        "            else:\n",
        "                print(\"Voto inválido. Debe ser un número del 1 al 6.\")\n",
        "        except ValueError:\n",
        "            print(\"Entrada inválida. Por favor ingrese un número.\")\n",
        "\n",
        "# Cálculo del total de votos\n",
        "total_votos = sum(votos_candidato) + votos_nulos + votos_blancos\n",
        "\n",
        "# Mostrar resultados\n",
        "print(\"\\nResultados de la elección:\")\n",
        "for i in range(4):\n",
        "    print(f\"Candidato {i+1}: {votos_candidato[i]} votos\")\n",
        "\n",
        "print(f\"Votos nulos: {votos_nulos}\")\n",
        "print(f\"Votos en blanco: {votos_blancos}\")\n",
        "\n",
        "# Cálculo de porcentajes\n",
        "porcentaje_nulos = (votos_nulos / total_votos) * 100\n",
        "porcentaje_blancos = (votos_blancos / total_votos) * 100\n",
        "\n",
        "print(f\"\\nPorcentaje de votos nulos: {porcentaje_nulos:.2f}%\")\n",
        "print(f\"Porcentaje de votos en blanco: {porcentaje_blancos:.2f}%\")\n",
        "\n",
        "# Determinar el ganador\n",
        "max_votos = max(votos_candidato)\n",
        "ganadores = [i+1 for i, v in enumerate(votos_candidato) if v == max_votos]\n",
        "\n",
        "if len(ganadores) == 1:\n",
        "    print(f\"\\nEl ganador es el Candidato {ganadores[0]} con {max_votos} votos.\")\n",
        "else:\n",
        "    print(f\"\\nEmpate entre los candidatos: {', '.join(map(str, ganadores))} con {max_votos} votos cada uno.\")\n"
      ],
      "metadata": {
        "colab": {
          "base_uri": "https://localhost:8080/"
        },
        "id": "1SnSDu-UJ5OO",
        "outputId": "e9f794c6-1737-4c04-f97a-e20a2607617e"
      },
      "execution_count": null,
      "outputs": [
        {
          "output_type": "stream",
          "name": "stdout",
          "text": [
            "Votación para la gerencia (elige del 1 al 6):\n",
            "1-4: Candidatos\n",
            "5: Voto Nulo\n",
            "6: Voto en Blanco\n",
            "\n",
            "Ingrese el voto del empleado #1: 2\n",
            "Ingrese el voto del empleado #2: 1\n",
            "Ingrese el voto del empleado #3: 5\n",
            "Ingrese el voto del empleado #4: 4\n",
            "Ingrese el voto del empleado #5: 2\n",
            "Ingrese el voto del empleado #6: 2\n",
            "Ingrese el voto del empleado #7: 2\n",
            "Ingrese el voto del empleado #8: 10\n",
            "Voto inválido. Debe ser un número del 1 al 6.\n",
            "Ingrese el voto del empleado #8: 3\n",
            "Ingrese el voto del empleado #9: 2\n",
            "Ingrese el voto del empleado #10: 2\n",
            "Ingrese el voto del empleado #11: 2\n",
            "Ingrese el voto del empleado #12: 2\n",
            "Ingrese el voto del empleado #13: 2\n",
            "Ingrese el voto del empleado #14: 1\n",
            "Ingrese el voto del empleado #15: 1\n",
            "Ingrese el voto del empleado #16: 1\n",
            "Ingrese el voto del empleado #17: 3\n",
            "Ingrese el voto del empleado #18: 5\n",
            "Ingrese el voto del empleado #19: -2\n",
            "Voto inválido. Debe ser un número del 1 al 6.\n",
            "Ingrese el voto del empleado #19: 2\n",
            "Ingrese el voto del empleado #20: 3\n",
            "\n",
            "Resultados de la elección:\n",
            "Candidato 1: 4 votos\n",
            "Candidato 2: 10 votos\n",
            "Candidato 3: 3 votos\n",
            "Candidato 4: 1 votos\n",
            "Votos nulos: 2\n",
            "Votos en blanco: 0\n",
            "\n",
            "Porcentaje de votos nulos: 10.00%\n",
            "Porcentaje de votos en blanco: 0.00%\n",
            "\n",
            "El ganador es el Candidato 2 con 10 votos.\n"
          ]
        }
      ]
    }
  ]
}